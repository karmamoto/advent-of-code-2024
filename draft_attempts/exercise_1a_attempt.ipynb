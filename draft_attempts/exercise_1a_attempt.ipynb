{
 "cells": [
  {
   "cell_type": "markdown",
   "metadata": {},
   "source": [
    "Instantiate duckDB and read in CSV file "
   ]
  },
  {
   "cell_type": "code",
   "execution_count": 1,
   "metadata": {},
   "outputs": [],
   "source": [
    "import duckdb\n",
    "con1 = duckdb.connect()\n",
    "\n",
    "advent_code_day1_input = con1.sql(\"\"\"\n",
    "SELECT \n",
    "    column0 AS list1\n",
    "    ,column1 AS list2\n",
    "FROM '../data/exercise_1a_data.csv'\"\"\")\n",
    "\n"
   ]
  },
  {
   "cell_type": "markdown",
   "metadata": {},
   "source": [
    "Assign row counts to each column based on the value of the column and then join those columns in order to 'sort' them "
   ]
  },
  {
   "cell_type": "code",
   "execution_count": 2,
   "metadata": {},
   "outputs": [
    {
     "name": "stdout",
     "output_type": "stream",
     "text": [
      "┌───────┬───────┐\n",
      "│ list1 │ list2 │\n",
      "│ int64 │ int64 │\n",
      "├───────┼───────┤\n",
      "│ 14832 │ 78161 │\n",
      "│ 19986 │ 67025 │\n",
      "│ 61574 │ 40916 │\n",
      "│ 87318 │ 29281 │\n",
      "│ 12651 │ 42252 │\n",
      "│ 43238 │ 74483 │\n",
      "│ 13498 │ 83990 │\n",
      "│ 89748 │ 81193 │\n",
      "│ 21897 │ 61695 │\n",
      "│ 56707 │ 55826 │\n",
      "│   ·   │   ·   │\n",
      "│   ·   │   ·   │\n",
      "│   ·   │   ·   │\n",
      "│ 40595 │ 79535 │\n",
      "│ 50112 │ 78405 │\n",
      "│ 17611 │ 36111 │\n",
      "│ 90791 │ 83486 │\n",
      "│ 95109 │ 82102 │\n",
      "│ 74143 │ 50625 │\n",
      "│ 89442 │ 77411 │\n",
      "│ 11299 │ 45357 │\n",
      "│ 65424 │ 21897 │\n",
      "│ 17687 │ 33543 │\n",
      "├───────┴───────┤\n",
      "│   1000 rows   │\n",
      "│  (20 shown)   │\n",
      "└───────────────┘\n",
      "\n"
     ]
    }
   ],
   "source": [
    "advent_code_day1_input.show()"
   ]
  },
  {
   "cell_type": "code",
   "execution_count": 3,
   "metadata": {},
   "outputs": [],
   "source": [
    "advent_code_day1_list_dist_ans = con1.sql(\"\"\"\n",
    "WITH assign_index AS \n",
    "(                                                                     \n",
    "SELECT \n",
    "    list1\n",
    "    ,list2\n",
    "    ,row_number() OVER (ORDER BY list1) AS list1_index\n",
    "    ,row_number() OVER (ORDER BY list2) AS list2_index\n",
    "FROM advent_code_day1_input\n",
    ")\n",
    "\n",
    ",calc_dist AS \n",
    "(                                                                                   \n",
    "SELECT \n",
    "    a.list1\n",
    "    ,a.list1_index\n",
    "    ,b.list2\n",
    "    ,b.list2_index\n",
    "    ,ABS(a.list1-b.list2) as list_difference_val                                      \n",
    "FROM assign_index a\n",
    "LEFT JOIN assign_index b \n",
    "ON a.list1_index = b.list2_index      \n",
    ")\n",
    "\n",
    "SELECT SUM(list_difference_val)\n",
    "FROM calc_dist                                                                                                                                                                                                   \n",
    "\"\"\")"
   ]
  },
  {
   "cell_type": "code",
   "execution_count": 4,
   "metadata": {},
   "outputs": [
    {
     "name": "stdout",
     "output_type": "stream",
     "text": [
      "┌──────────────────────────┐\n",
      "│ sum(list_difference_val) │\n",
      "│          int128          │\n",
      "├──────────────────────────┤\n",
      "│                  1938424 │\n",
      "└──────────────────────────┘\n",
      "\n"
     ]
    }
   ],
   "source": [
    "advent_code_day1_list_dist_ans.show()"
   ]
  }
 ],
 "metadata": {
  "kernelspec": {
   "display_name": ".venv",
   "language": "python",
   "name": "python3"
  },
  "language_info": {
   "codemirror_mode": {
    "name": "ipython",
    "version": 3
   },
   "file_extension": ".py",
   "mimetype": "text/x-python",
   "name": "python",
   "nbconvert_exporter": "python",
   "pygments_lexer": "ipython3",
   "version": "3.12.1"
  }
 },
 "nbformat": 4,
 "nbformat_minor": 2
}
