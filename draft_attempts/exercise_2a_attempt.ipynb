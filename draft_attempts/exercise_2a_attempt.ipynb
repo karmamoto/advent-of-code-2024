{
 "cells": [
  {
   "cell_type": "markdown",
   "metadata": {},
   "source": [
    "Read the code in from the text file and split each line into a list, and have each number in each line be an element of that created list "
   ]
  },
  {
   "cell_type": "code",
   "execution_count": null,
   "metadata": {},
   "outputs": [],
   "source": [
    "text_file_path = '/Users/rcomp/Documents/Code_projects/advent_of_code_2024/data/exercise_2_data.txt'\n",
    "\n",
    "with open('/Users/rcomp/Documents/Code_projects/advent_of_code_2024/data/exercise_2_data.txt', 'r') as file: \n",
    "    for line in file: \n",
    "        []\n"
   ]
  },
  {
   "cell_type": "markdown",
   "metadata": {},
   "source": []
  }
 ],
 "metadata": {
  "kernelspec": {
   "display_name": ".venv",
   "language": "python",
   "name": "python3"
  },
  "language_info": {
   "codemirror_mode": {
    "name": "ipython",
    "version": 3
   },
   "file_extension": ".py",
   "mimetype": "text/x-python",
   "name": "python",
   "nbconvert_exporter": "python",
   "pygments_lexer": "ipython3",
   "version": "3.12.1"
  }
 },
 "nbformat": 4,
 "nbformat_minor": 2
}
