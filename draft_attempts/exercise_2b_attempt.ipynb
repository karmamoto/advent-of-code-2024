{
 "cells": [
  {
   "cell_type": "markdown",
   "metadata": {},
   "source": [
    "#### Question outline:\n",
    "\n",
    "The engineers are surprised by the low number of safe reports until they realize they forgot to tell you about the Problem Dampener.\n",
    "\n",
    "The Problem Dampener is a reactor-mounted module that lets the reactor safety systems tolerate a single bad level in what would otherwise be a safe report. It's like the bad level never happened!\n",
    "\n",
    "Now, the same rules apply as before, except if removing a single level from an unsafe report would make it safe, the report instead counts as safe.\n",
    "\n",
    "More of the above example's reports are now safe:\n",
    "```\n",
    "7 6 4 2 1: Safe without removing any level.\n",
    "1 2 7 8 9: Unsafe regardless of which level is removed.\n",
    "9 7 6 2 1: Unsafe regardless of which level is removed.\n",
    "1 3 2 4 5: Safe by removing the second level, 3.\n",
    "8 6 4 4 1: Safe by removing the third level, 4.\n",
    "1 3 6 7 9: Safe without removing any level.\n",
    "```\n",
    "Thanks to the Problem Dampener, 4 reports are actually safe!\n",
    "\n",
    "Update your analysis by handling situations where the Problem Dampener can remove a single level from unsafe reports. How many reports are now safe?\n",
    "\n"
   ]
  },
  {
   "cell_type": "markdown",
   "metadata": {},
   "source": [
    "#### Approach notes:\n",
    "\n",
    "Same as before: \n",
    "Read each line input as a list \n",
    "Instantiate a result sum.\n",
    "Instantiate ascending safe number difference \n",
    "Instantiate descending safe number difference \n",
    "\n",
    "What we can do is similar to before, check the intervals between each pair of integers.\n",
    "We can check every single pair to see if they are consistent\n",
    "There are 3 cases to deal with:  \n",
    "- If encounter one inconsistency then see if you can skip that one and then continue and if that is consistent, if it is still not then break out of the loop \n",
    "- If the last level is erroneous compared to the rest and the delete chance is not used up then it is okay, use continue clause in loop\n",
    "- If the first level is erroneous compared to the rest then don't break out of the loop and delete the first one \n",
    "    \n",
    "So:\n",
    "\n",
    "\n",
    "Loop through each line list. Check if the first to second element is ascending or descending. \n",
    "set loop variable to ascending. \n",
    "If the next element is the opposite order then set element i of the result list of the loop to be Unsafe (0) and end loop. If the next element is the same or differs by more than 3 then set element i of the result list to be Unsafe and end the loop. \n",
    "If we get to the end of the 5th element and criteria for Safe is met, increment the results sum by 1\n",
    "\n",
    "At the end sum the result list to find the number of Safe reports. \n",
    "\n",
    "\n",
    "\n",
    "Pseudocode: \n"
   ]
  },
  {
   "cell_type": "code",
   "execution_count": 78,
   "metadata": {},
   "outputs": [],
   "source": [
    "def is_safe(report): \n",
    "    if len(report) == 1: # aka a single level is always safe \n",
    "        return True\n",
    "    # use list comprehension and all() function to check if every element is increasing or decreasing \n",
    "    ascending_check = all([report[i] < report[i+1] for i in range(len(report)-1)])\n",
    "    descending_check = all([report[i] > report[i+1] for i in range(len(report)-1)])\n",
    "    interval_check = all([abs(report[i+1] - report[i]) in (1,2,3) for i in range(len(report)-1)])\n",
    "    \n",
    "    return (ascending_check == True or descending_check == True) and interval_check\n"
   ]
  },
  {
   "cell_type": "markdown",
   "metadata": {},
   "source": [
    "Read the code in from the text file and split each line into a list, and have each number in each line be an element of that created list "
   ]
  },
  {
   "cell_type": "code",
   "execution_count": 79,
   "metadata": {},
   "outputs": [],
   "source": [
    "# initialise variables\n",
    "text_file_path = '../data/exercise_2_data.txt'\n",
    "safe_report_sum = 0\n",
    "\n",
    "with open(text_file_path, 'r') as file: \n",
    "    # Read the file content and split by newline\n",
    "    lines = file.read().splitlines()\n",
    "    int_list_of_lists = [list(map(int,line.split())) for line in lines if line.strip()] # Ensures empty lines are ignored\n"
   ]
  },
  {
   "cell_type": "markdown",
   "metadata": {},
   "source": [
    "If the original sub_list is not safe, then we have to apply the problem dampener one by one to the list. \n",
    "For every element in the list, if we exclude it then run the is_safe function over it is the list then safe? \n",
    "If we discover it is safe then stop the loop and declare the entire sub_list as safe \n",
    "If we reach the end of the list with application of the problem dampener and the list is still not safe then we declare the entire list as unsafe even after using the problem dampener \n",
    "\n",
    "\n",
    "We also need to implement something to check if every element is within 1 to 3 levels of the next element "
   ]
  },
  {
   "cell_type": "code",
   "execution_count": 80,
   "metadata": {},
   "outputs": [],
   "source": [
    "# int_list_of_lists = [\n",
    "#     [1,2,3,10]\n",
    "#     ,[1,2,2,2]\n",
    "#     ,[10,1,2,4]\n",
    "# ]"
   ]
  },
  {
   "cell_type": "code",
   "execution_count": 81,
   "metadata": {},
   "outputs": [],
   "source": [
    "for sub_list in int_list_of_lists:\n",
    "    if is_safe(sub_list):\n",
    "        safe_report_sum += 1\n",
    "        continue  \n",
    "    for i in range(len(sub_list)):\n",
    "        amended_sub_list = sub_list[0:i] + sub_list[i+1:]\n",
    "        if is_safe(amended_sub_list):\n",
    "            safe_report_sum += 1 \n",
    "            break \n",
    "        else:\n",
    "            continue "
   ]
  },
  {
   "cell_type": "code",
   "execution_count": 82,
   "metadata": {},
   "outputs": [
    {
     "name": "stdout",
     "output_type": "stream",
     "text": [
      "692\n"
     ]
    }
   ],
   "source": [
    "print(safe_report_sum)\n",
    "# Answer is 692\n"
   ]
  },
  {
   "cell_type": "markdown",
   "metadata": {},
   "source": []
  }
 ],
 "metadata": {
  "kernelspec": {
   "display_name": ".venv",
   "language": "python",
   "name": "python3"
  },
  "language_info": {
   "codemirror_mode": {
    "name": "ipython",
    "version": 3
   },
   "file_extension": ".py",
   "mimetype": "text/x-python",
   "name": "python",
   "nbconvert_exporter": "python",
   "pygments_lexer": "ipython3",
   "version": "3.12.1"
  }
 },
 "nbformat": 4,
 "nbformat_minor": 2
}
