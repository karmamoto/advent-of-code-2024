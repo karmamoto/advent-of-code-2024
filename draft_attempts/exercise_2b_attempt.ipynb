{
 "cells": [
  {
   "cell_type": "markdown",
   "metadata": {},
   "source": [
    "#### Question outline:\n",
    "\n",
    "The unusual data (your puzzle input) consists of many _reports_, one report per line. Each report is a list of numbers called _levels_ that are separated by spaces. For example:\n",
    "\n",
    "```\n",
    "7 6 4 2 1\n",
    "1 2 7 8 9\n",
    "9 7 6 2 1\n",
    "1 3 2 4 5\n",
    "8 6 4 4 1\n",
    "1 3 6 7 9\n",
    "```\n",
    "\n",
    "This example data contains six reports each containing five levels.\n",
    "\n",
    "The engineers are trying to figure out which reports are _safe_. The Red-Nosed reactor safety systems can only tolerate levels that are either gradually increasing or gradually decreasing. So, a report only counts as safe if both of the following are true:\n",
    "\n",
    "- The levels are either _all increasing_ or _all decreasing_.\n",
    "- Any two adjacent levels differ by _at least one_ and _at most three_.\n",
    "\n",
    "In the example above, the reports can be found safe or unsafe by checking those rules:\n",
    "\n",
    "- `7 6 4 2 1`: _Safe_ because the levels are all decreasing by 1 or 2.\n",
    "- `1 2 7 8 9`: _Unsafe_ because `2 7` is an increase of 5.\n",
    "- `9 7 6 2 1`: _Unsafe_ because `6 2` is a decrease of 4.\n",
    "- `1 3 2 4 5`: _Unsafe_ because `1 3` is increasing but `3 2` is decreasing.\n",
    "- `8 6 4 4 1`: _Unsafe_ because `4 4` is neither an increase or a decrease.\n",
    "- `1 3 6 7 9`: _Safe_ because the levels are all increasing by 1, 2, or 3.\n",
    "\n",
    "So, in this example, `_2_` reports are _safe_.\n",
    "\n",
    "Analyze the unusual data from the engineers. _How many reports are safe?_\n"
   ]
  },
  {
   "cell_type": "markdown",
   "metadata": {},
   "source": [
    "#### Approach notes:\n",
    "\n",
    "Read each line input as a list \n",
    "Instantiate a result sum.\n",
    "Instantiate ascending safe number difference \n",
    "Instantiate descending safe number difference \n",
    "\n",
    "Loop through each line list. Check if the first to second element is ascending or descending. \n",
    "set loop variable to ascending. \n",
    "If the next element is the opposite order then set element i of the result list of the loop to be Unsafe (0) and end loop. If the next element is the same or differs by more than 3 then set element i of the result list to be Unsafe and end the loop. \n",
    "If we get to the end of the 5th element and criteria for Safe is met, increment the results sum by 1\n",
    "\n",
    "At the end sum the result list to find the number of Safe reports. \n"
   ]
  },
  {
   "cell_type": "markdown",
   "metadata": {},
   "source": [
    "#### To do \n",
    "\n",
    "- Create helper function to parse through the file and split the file by newline "
   ]
  },
  {
   "cell_type": "markdown",
   "metadata": {},
   "source": [
    "Read the code in from the text file and split each line into a list, and have each number in each line be an element of that created list "
   ]
  },
  {
   "cell_type": "code",
   "execution_count": 38,
   "metadata": {},
   "outputs": [],
   "source": [
    "# initialise variables\n",
    "text_file_path = '../data/exercise_2a_data.txt'\n",
    "file_line_list = []\n",
    "ascending_safe_interval = [1,2,3]\n",
    "descending_safe_interval = [-1,-2,-3]\n",
    "safe_report_sum = 0\n",
    "\n",
    "with open(text_file_path, 'r') as file: \n",
    "    # Read the file content and split by newline\n",
    "    lines = file.read().splitlines()\n",
    "    int_list_of_lists = [list(map(int,line.split())) for line in lines if line.strip()] # Ensures empty lines are ignored\n",
    "\n",
    "# print(int_list)"
   ]
  },
  {
   "cell_type": "markdown",
   "metadata": {},
   "source": [
    "Calculate the number of safe reports.\n",
    "\n",
    "Once you have the sub-list then check the interval between one element to the next, starting from the 2nd to the 3rd element and ending with the second to last element and last element. "
   ]
  },
  {
   "cell_type": "code",
   "execution_count": 39,
   "metadata": {},
   "outputs": [],
   "source": [
    "# print(int_list_of_lists)\n",
    "\n",
    "for sub_list in int_list_of_lists:\n",
    "    interval_diff = sub_list[1] - sub_list[0]\n",
    "    if interval_diff == 0:\n",
    "        continue \n",
    "    elif interval_diff > 0:\n",
    "        ascending_direction = True\n",
    "    # elif interval_diff < 0:\n",
    "    #     interval_direction = 'descending'\n",
    "    else:\n",
    "        ascending_direction = False\n",
    "    safe_report = True\n",
    "\n",
    "    for x in range(1, len(sub_list)):\n",
    "        interval_diff = sub_list[x] - sub_list[x-1]\n",
    "        if ascending_direction == True and interval_diff in ascending_safe_interval:\n",
    "            continue \n",
    "        elif ascending_direction == False and interval_diff in descending_safe_interval:\n",
    "            continue\n",
    "        else: \n",
    "            safe_report = False \n",
    "            break \n",
    "    if safe_report == True:\n",
    "        safe_report_sum += 1 "
   ]
  },
  {
   "cell_type": "code",
   "execution_count": 40,
   "metadata": {},
   "outputs": [
    {
     "name": "stdout",
     "output_type": "stream",
     "text": [
      "663\n"
     ]
    }
   ],
   "source": [
    "print(safe_report_sum)"
   ]
  },
  {
   "cell_type": "markdown",
   "metadata": {},
   "source": []
  }
 ],
 "metadata": {
  "kernelspec": {
   "display_name": ".venv",
   "language": "python",
   "name": "python3"
  },
  "language_info": {
   "codemirror_mode": {
    "name": "ipython",
    "version": 3
   },
   "file_extension": ".py",
   "mimetype": "text/x-python",
   "name": "python",
   "nbconvert_exporter": "python",
   "pygments_lexer": "ipython3",
   "version": "3.12.1"
  }
 },
 "nbformat": 4,
 "nbformat_minor": 2
}
