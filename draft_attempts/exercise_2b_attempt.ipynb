{
 "cells": [
  {
   "cell_type": "markdown",
   "metadata": {},
   "source": [
    "#### Question outline:\n",
    "\n",
    "The engineers are surprised by the low number of safe reports until they realize they forgot to tell you about the Problem Dampener.\n",
    "\n",
    "The Problem Dampener is a reactor-mounted module that lets the reactor safety systems tolerate a single bad level in what would otherwise be a safe report. It's like the bad level never happened!\n",
    "\n",
    "Now, the same rules apply as before, except if removing a single level from an unsafe report would make it safe, the report instead counts as safe.\n",
    "\n",
    "More of the above example's reports are now safe:\n",
    "```\n",
    "7 6 4 2 1: Safe without removing any level.\n",
    "1 2 7 8 9: Unsafe regardless of which level is removed.\n",
    "9 7 6 2 1: Unsafe regardless of which level is removed.\n",
    "1 3 2 4 5: Safe by removing the second level, 3.\n",
    "8 6 4 4 1: Safe by removing the third level, 4.\n",
    "1 3 6 7 9: Safe without removing any level.\n",
    "```\n",
    "Thanks to the Problem Dampener, 4 reports are actually safe!\n",
    "\n",
    "Update your analysis by handling situations where the Problem Dampener can remove a single level from unsafe reports. How many reports are now safe?\n",
    "\n"
   ]
  },
  {
   "cell_type": "markdown",
   "metadata": {},
   "source": [
    "#### Approach notes:\n",
    "\n",
    "Same as before: \n",
    "Read each line input as a list \n",
    "Instantiate a result sum.\n",
    "Instantiate ascending safe number difference \n",
    "Instantiate descending safe number difference \n",
    "\n",
    "What we can do is similar to before, check the intervals between each pair of integers.\n",
    "We can check every single pair to see if they are consistent\n",
    "There are 3 cases to deal with:  \n",
    "- If encounter one inconsistency then see if you can skip that one and then continue and if that is consistent, if it is still not then break out of the loop \n",
    "- If the last level is erroneous compared to the rest and the delete chance is not used up then it is okay, use continue clause in loop\n",
    "- If the first level is erroneous compared to the rest then don't break out of the loop and delete the first one \n",
    "    \n",
    "So:\n",
    "\n",
    "\n",
    "Loop through each line list. Check if the first to second element is ascending or descending. \n",
    "set loop variable to ascending. \n",
    "If the next element is the opposite order then set element i of the result list of the loop to be Unsafe (0) and end loop. If the next element is the same or differs by more than 3 then set element i of the result list to be Unsafe and end the loop. \n",
    "If we get to the end of the 5th element and criteria for Safe is met, increment the results sum by 1\n",
    "\n",
    "At the end sum the result list to find the number of Safe reports. \n",
    "\n",
    "\n",
    "\n",
    "Pseudocode: \n"
   ]
  },
  {
   "cell_type": "markdown",
   "metadata": {},
   "source": [
    "Read the code in from the text file and split each line into a list, and have each number in each line be an element of that created list "
   ]
  },
  {
   "cell_type": "code",
   "execution_count": 1,
   "metadata": {},
   "outputs": [],
   "source": [
    "# initialise variables\n",
    "text_file_path = '../data/exercise_2_data.txt'\n",
    "file_line_list = []\n",
    "ascending_safe_interval = [1,2,3]\n",
    "descending_safe_interval = [-1,-2,-3]\n",
    "\n",
    "safe_report_sum = 0\n",
    "\n",
    "with open(text_file_path, 'r') as file: \n",
    "    # Read the file content and split by newline\n",
    "    lines = file.read().splitlines()\n",
    "    int_list_of_lists = [list(map(int,line.split())) for line in lines if line.strip()] # Ensures empty lines are ignored\n",
    "\n",
    "# print(int_list_of_lists)"
   ]
  },
  {
   "cell_type": "code",
   "execution_count": 35,
   "metadata": {},
   "outputs": [],
   "source": [
    "# int_list_of_lists = [[1,3,5,7]\n",
    "#      ,[8,3,5,7]\n",
    "#      ,[1,8,3,5]\n",
    "#      ,[1,3,5,11]\n",
    "#      ,[1,2,8,5]\n",
    "#      ,[5,4,7,8]\n",
    "#      ,[9,8,6,4]\n",
    "#      ,[1,8,10,12]\n",
    "#      ,[46,2,54,1]\n",
    "#      ]"
   ]
  },
  {
   "cell_type": "markdown",
   "metadata": {},
   "source": [
    "Calculate the number of safe reports.\n",
    "\n",
    "Once you have the sub-list then check the interval between one element to the next, starting from the 2nd to the 3rd element and ending with the second to last element and last element. "
   ]
  },
  {
   "cell_type": "code",
   "execution_count": 6,
   "metadata": {},
   "outputs": [],
   "source": [
    "for sub_list in int_list_of_lists:\n",
    "    safe_report = True\n",
    "    problem_dampener_chance = True \n",
    "    end_loop = False\n",
    "\n",
    "    while end_loop == False:\n",
    "\n",
    "        for x in range(1, len(sub_list)):\n",
    "            starting_int_diff = sub_list[1] - sub_list[0]\n",
    "            if starting_int_diff > 0:\n",
    "                ascending_direction = True\n",
    "            else:\n",
    "                ascending_direction = False    \n",
    "            interval_diff = sub_list[x] - sub_list[x-1]\n",
    "            \n",
    "            if ascending_direction == True and (interval_diff in ascending_safe_interval):\n",
    "                if x == len(sub_list)-1:\n",
    "                    end_loop = True \n",
    "                continue \n",
    "            elif ascending_direction == False and (interval_diff in descending_safe_interval):\n",
    "                if x == len(sub_list)-1:\n",
    "                    end_loop = True \n",
    "                continue\n",
    "\n",
    "            elif problem_dampener_chance == True:\n",
    "                if x == len(sub_list)-1:\n",
    "                    # print(f'deleted' + str(sub_list[x]))\n",
    "                    del sub_list[x]\n",
    "                elif x == 1:\n",
    "                    if abs(sub_list[x+1] - sub_list[x]) in ascending_safe_interval:\n",
    "                        del sub_list[x-1]\n",
    "                    elif abs(sub_list[x+1] - sub_list[x-1]) in ascending_safe_interval:\n",
    "                        del sub_list[x]\n",
    "                elif x > 1:\n",
    "                    if abs(sub_list[x+1] - sub_list[x-1]) in ascending_safe_interval:\n",
    "                        del sub_list[x]\n",
    "                    if abs(sub_list[x] - sub_list[x-2]) in ascending_safe_interval:\n",
    "                        del sub_list[x-1]\n",
    "                problem_dampener_chance = False\n",
    "                break\n",
    "            elif problem_dampener_chance == False: \n",
    "                safe_report = False\n",
    "                end_loop = True \n",
    "                break \n",
    "\n",
    "    if safe_report == True:\n",
    "        safe_report_sum += 1\n",
    "        # print(sub_list) \n"
   ]
  },
  {
   "cell_type": "code",
   "execution_count": 7,
   "metadata": {},
   "outputs": [
    {
     "name": "stdout",
     "output_type": "stream",
     "text": [
      "1482\n"
     ]
    }
   ],
   "source": [
    "print(safe_report_sum)\n",
    "# Answer is 693\n"
   ]
  },
  {
   "cell_type": "markdown",
   "metadata": {},
   "source": []
  }
 ],
 "metadata": {
  "kernelspec": {
   "display_name": ".venv",
   "language": "python",
   "name": "python3"
  },
  "language_info": {
   "codemirror_mode": {
    "name": "ipython",
    "version": 3
   },
   "file_extension": ".py",
   "mimetype": "text/x-python",
   "name": "python",
   "nbconvert_exporter": "python",
   "pygments_lexer": "ipython3",
   "version": "3.12.1"
  }
 },
 "nbformat": 4,
 "nbformat_minor": 2
}
